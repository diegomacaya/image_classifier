{
 "cells": [
  {
   "cell_type": "markdown",
   "metadata": {},
   "source": [
    "# Explore here"
   ]
  },
  {
   "cell_type": "code",
   "execution_count": 1,
   "metadata": {},
   "outputs": [],
   "source": [
    "import shutil\n",
    "import os\n",
    "#necesito poder diferenciar cuales imagenes son de perro y cuales son de gato, es por eso que utilizamos de forma conveniente el nombre de cada archivo porque inician con 'cat' o con 'dog'\n",
    "\n",
    "def separar_imagenes(ruta_carpeta):\n",
    "    archivos = os.listdir(ruta_carpeta)\n",
    "    for archivo in archivos:\n",
    "        if archivo.startswith(\"dog\"):\n",
    "            destino = os.path.join(ruta_carpeta, \"dog\")\n",
    "        elif archivo.startswith(\"cat\"):\n",
    "            destino = os.path.join(ruta_carpeta, \"cat\")\n",
    "        else:\n",
    "            continue\n",
    "        if not os.path.exists(destino):\n",
    "            os.makedirs(destino)\n",
    "        shutil.move(os.path.join(ruta_carpeta, archivo),destino)\n",
    "separar_imagenes(\"../data/raw/train/\")"
   ]
  }
 ],
 "metadata": {
  "kernelspec": {
   "display_name": "Python 3",
   "language": "python",
   "name": "python3"
  },
  "language_info": {
   "codemirror_mode": {
    "name": "ipython",
    "version": 3
   },
   "file_extension": ".py",
   "mimetype": "text/x-python",
   "name": "python",
   "nbconvert_exporter": "python",
   "pygments_lexer": "ipython3",
   "version": "3.10.12"
  },
  "orig_nbformat": 4
 },
 "nbformat": 4,
 "nbformat_minor": 2
}
